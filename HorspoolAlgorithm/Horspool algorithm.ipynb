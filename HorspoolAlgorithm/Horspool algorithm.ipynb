{
 "cells": [
  {
   "cell_type": "code",
   "execution_count": 1,
   "metadata": {},
   "outputs": [
    {
     "name": "stdout",
     "output_type": "stream",
     "text": [
      "Text: But it is better to learn wisdom late than never learn it at all.\n",
      "Pattern: wisdom\n",
      "Pattern \"wisdom\" found at position 26\n"
     ]
    }
   ],
   "source": [
    "def BoyerMooreHorspool(pattern, text):\n",
    "    m = len(pattern)\n",
    "    n = len(text)\n",
    "    if m > n: return -1\n",
    "    skip = []\n",
    "    for k in range(256): skip.append(m)\n",
    "    for k in range(m - 1): skip[ord(pattern[k])] = m - k - 1\n",
    "    skip = tuple(skip)\n",
    "    k = m - 1\n",
    "    while k < n:\n",
    "        j = m - 1; i = k\n",
    "        while j >= 0 and text[i] == pattern[j]:\n",
    "            j -= 1; i -= 1\n",
    "        if j == -1: return i + 1\n",
    "        k += skip[ord(text[k])]\n",
    "    return -1\n",
    "\n",
    "if __name__ == '__main__':\n",
    "    text = \"But it is better to learn wisdom late than never learn it at all.\"\n",
    "    pattern = \"wisdom\"\n",
    "    s = BoyerMooreHorspool(pattern, text)\n",
    "    print ('Text:',text)\n",
    "    print ('Pattern:',pattern)\n",
    "    if s > -1:\n",
    "        print ('Pattern \\\"' + pattern + '\\\" found at position',s)\n"
   ]
  },
  {
   "cell_type": "code",
   "execution_count": 2,
   "metadata": {},
   "outputs": [
    {
     "name": "stdout",
     "output_type": "stream",
     "text": [
      "Text: Education never ends, Watson. It is a series of lessons with the greatest for the last.\n",
      "Pattern: lesson\n",
      "Pattern \"lesson\" found at position 48\n"
     ]
    }
   ],
   "source": [
    "text = \"Education never ends, Watson. It is a series of lessons with the greatest for the last.\"\n",
    "pattern = \"lesson\"\n",
    "s = BoyerMooreHorspool(pattern, text)\n",
    "print ('Text:',text)\n",
    "print ('Pattern:',pattern)\n",
    "if s > -1:\n",
    "    print ('Pattern \\\"' + pattern + '\\\" found at position',s)\n",
    "else:\n",
    "        print('Pattern not found')"
   ]
  },
  {
   "cell_type": "code",
   "execution_count": 3,
   "metadata": {},
   "outputs": [
    {
     "name": "stdout",
     "output_type": "stream",
     "text": [
      "Text: Watson! Come at once if convenient. If inconvenient, come all the same.\n",
      "Pattern: come\n",
      "Pattern \"come\" found at position 53\n"
     ]
    }
   ],
   "source": [
    "text = \"Watson! Come at once if convenient. If inconvenient, come all the same.\"\n",
    "pattern = \"come\"\n",
    "s = BoyerMooreHorspool(pattern, text)\n",
    "print ('Text:',text)\n",
    "print ('Pattern:',pattern)\n",
    "if s > -1:\n",
    "    print ('Pattern \\\"' + pattern + '\\\" found at position',s)\n",
    "else:\n",
    "        print('Pattern not found')"
   ]
  },
  {
   "cell_type": "code",
   "execution_count": 4,
   "metadata": {},
   "outputs": [
    {
     "name": "stdout",
     "output_type": "stream",
     "text": [
      "Text: Data! Data! Data! I can’t make bricks without clay.\n",
      "Pattern: Data\n",
      "Pattern \"Data\" found at position 0\n"
     ]
    }
   ],
   "source": [
    "text = \"Data! Data! Data! I can’t make bricks without clay.\"\n",
    "pattern = \"Data\"\n",
    "s = BoyerMooreHorspool(pattern, text)\n",
    "print ('Text:',text)\n",
    "print ('Pattern:',pattern)\n",
    "if s > -1:\n",
    "    print ('Pattern \\\"' + pattern + '\\\" found at position',s)\n",
    "else:\n",
    "        print('Pattern not found')"
   ]
  },
  {
   "cell_type": "code",
   "execution_count": 5,
   "metadata": {},
   "outputs": [
    {
     "name": "stdout",
     "output_type": "stream",
     "text": [
      "Text: It is a capital mistake to theorize before one has data.\n",
      "Pattern: it\n",
      "Pattern \"it\" found at position 11\n"
     ]
    }
   ],
   "source": [
    "text = \"It is a capital mistake to theorize before one has data.\"\n",
    "pattern = \"it\"\n",
    "s = BoyerMooreHorspool(pattern, text)\n",
    "print ('Text:',text)\n",
    "print ('Pattern:',pattern)\n",
    "if s > -1:\n",
    "    print ('Pattern \\\"' + pattern + '\\\" found at position',s)\n",
    "else:\n",
    "        print('Pattern not found')"
   ]
  },
  {
   "cell_type": "code",
   "execution_count": null,
   "metadata": {},
   "outputs": [],
   "source": []
  }
 ],
 "metadata": {
  "kernelspec": {
   "display_name": "Python 3",
   "language": "python",
   "name": "python3"
  },
  "language_info": {
   "codemirror_mode": {
    "name": "ipython",
    "version": 3
   },
   "file_extension": ".py",
   "mimetype": "text/x-python",
   "name": "python",
   "nbconvert_exporter": "python",
   "pygments_lexer": "ipython3",
   "version": "3.7.4"
  }
 },
 "nbformat": 4,
 "nbformat_minor": 2
}
