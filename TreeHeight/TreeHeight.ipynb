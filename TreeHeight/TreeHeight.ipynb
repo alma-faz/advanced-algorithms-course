{
 "cells": [
  {
   "cell_type": "markdown",
   "metadata": {},
   "source": [
    "## Implement the recursive algorithm to find the tree height\n",
    "\n",
    "### Steps:\n",
    "#### 1. If tree is empty, return 0.\n",
    "#### 2. Find the height of the left subtree\n",
    "#### 3. Find the height of the right subtree\n",
    "#### 4. Compare the heights and return the highest value\n",
    "#### 5. Add plus 1 to include the main root"
   ]
  },
  {
   "cell_type": "code",
   "execution_count": 1,
   "metadata": {},
   "outputs": [
    {
     "name": "stdout",
     "output_type": "stream",
     "text": [
      "Height of the tree is: 4\n"
     ]
    }
   ],
   "source": [
    "class Node: \n",
    "  \n",
    "    # Constructor to create a new node \n",
    "    def __init__(self, data): \n",
    "        self.data = data \n",
    "        self.left = None\n",
    "        self.right = None\n",
    "  \n",
    "\n",
    " \n",
    "def height(node): \n",
    "    if node is None: \n",
    "        return 0 ;  \n",
    "  \n",
    "    else : \n",
    "  \n",
    "        # Find height\n",
    "        lHeight = height(node.left) \n",
    "        rHeight = height(node.right) \n",
    "  \n",
    "        # Compare\n",
    "        if (lHeight > rHeight): \n",
    "            return lHeight+1\n",
    "        else: \n",
    "            return rHeight+1\n",
    "  \n",
    "  \n",
    "#Construct tree and print the height\n",
    "root = Node(1) \n",
    "root.left = Node(2) \n",
    "root.right = Node(3) \n",
    "root.left.left = Node(4) \n",
    "root.left.left.left = Node(5)\n",
    "root.left.right = Node(6) \n",
    "  \n",
    "print (\"Height of the tree is: %d\" %(height(root))) "
   ]
  }
 ],
 "metadata": {
  "kernelspec": {
   "display_name": "Python 3",
   "language": "python",
   "name": "python3"
  },
  "language_info": {
   "codemirror_mode": {
    "name": "ipython",
    "version": 3
   },
   "file_extension": ".py",
   "mimetype": "text/x-python",
   "name": "python",
   "nbconvert_exporter": "python",
   "pygments_lexer": "ipython3",
   "version": "3.7.4"
  }
 },
 "nbformat": 4,
 "nbformat_minor": 2
}
